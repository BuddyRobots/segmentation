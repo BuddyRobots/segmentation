{
 "cells": [
  {
   "cell_type": "code",
   "execution_count": 43,
   "metadata": {
    "collapsed": true
   },
   "outputs": [],
   "source": [
    "import tensorflow as tf\n",
    "import numpy as np"
   ]
  },
  {
   "cell_type": "code",
   "execution_count": 44,
   "metadata": {
    "collapsed": false
   },
   "outputs": [],
   "source": [
    "a = np.zeros((4, 4, 1))"
   ]
  },
  {
   "cell_type": "code",
   "execution_count": 45,
   "metadata": {
    "collapsed": false
   },
   "outputs": [],
   "source": [
    "for x in range(4):\n",
    "    for y in range(4):\n",
    "        a[x][y][0] = x * 4 + y"
   ]
  },
  {
   "cell_type": "code",
   "execution_count": 46,
   "metadata": {
    "collapsed": false
   },
   "outputs": [
    {
     "data": {
      "text/plain": [
       "array([[[  0.],\n",
       "        [  1.],\n",
       "        [  2.],\n",
       "        [  3.]],\n",
       "\n",
       "       [[  4.],\n",
       "        [  5.],\n",
       "        [  6.],\n",
       "        [  7.]],\n",
       "\n",
       "       [[  8.],\n",
       "        [  9.],\n",
       "        [ 10.],\n",
       "        [ 11.]],\n",
       "\n",
       "       [[ 12.],\n",
       "        [ 13.],\n",
       "        [ 14.],\n",
       "        [ 15.]]])"
      ]
     },
     "execution_count": 46,
     "metadata": {},
     "output_type": "execute_result"
    }
   ],
   "source": [
    "a"
   ]
  },
  {
   "cell_type": "code",
   "execution_count": 47,
   "metadata": {
    "collapsed": false
   },
   "outputs": [],
   "source": [
    "d1 = tf.constant(a)\n",
    "d2 = tf.reshape(d1, [2,2,4])\n",
    "d3 = tf.reshape(d1, [4, 4, 1])"
   ]
  },
  {
   "cell_type": "code",
   "execution_count": 48,
   "metadata": {
    "collapsed": true
   },
   "outputs": [],
   "source": [
    "sess = tf.Session()\n",
    "init = tf.initialize_all_variables()\n",
    "sess.run(init)"
   ]
  },
  {
   "cell_type": "code",
   "execution_count": 51,
   "metadata": {
    "collapsed": true
   },
   "outputs": [],
   "source": [
    "dd = sess.run(d3)"
   ]
  },
  {
   "cell_type": "code",
   "execution_count": 52,
   "metadata": {
    "collapsed": false
   },
   "outputs": [
    {
     "data": {
      "text/plain": [
       "array([[[  0.],\n",
       "        [  1.],\n",
       "        [  2.],\n",
       "        [  3.]],\n",
       "\n",
       "       [[  4.],\n",
       "        [  5.],\n",
       "        [  6.],\n",
       "        [  7.]],\n",
       "\n",
       "       [[  8.],\n",
       "        [  9.],\n",
       "        [ 10.],\n",
       "        [ 11.]],\n",
       "\n",
       "       [[ 12.],\n",
       "        [ 13.],\n",
       "        [ 14.],\n",
       "        [ 15.]]])"
      ]
     },
     "execution_count": 52,
     "metadata": {},
     "output_type": "execute_result"
    }
   ],
   "source": [
    "dd"
   ]
  },
  {
   "cell_type": "code",
   "execution_count": null,
   "metadata": {
    "collapsed": true
   },
   "outputs": [],
   "source": []
  }
 ],
 "metadata": {
  "kernelspec": {
   "display_name": "Python 2",
   "language": "python",
   "name": "python2"
  },
  "language_info": {
   "codemirror_mode": {
    "name": "ipython",
    "version": 2
   },
   "file_extension": ".py",
   "mimetype": "text/x-python",
   "name": "python",
   "nbconvert_exporter": "python",
   "pygments_lexer": "ipython2",
   "version": "2.7.6"
  }
 },
 "nbformat": 4,
 "nbformat_minor": 1
}
