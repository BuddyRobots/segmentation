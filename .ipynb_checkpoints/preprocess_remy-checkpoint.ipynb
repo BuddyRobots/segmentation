{
 "cells": [
  {
   "cell_type": "code",
   "execution_count": 5,
   "metadata": {
    "collapsed": true
   },
   "outputs": [],
   "source": [
    "import os\n",
    "from scipy import misc\n",
    "from matplotlib import pyplot as plt\n",
    "import numpy as np\n",
    "import numpy.ma as ma\n",
    "%matplotlib inline"
   ]
  },
  {
   "cell_type": "code",
   "execution_count": 17,
   "metadata": {
    "collapsed": false
   },
   "outputs": [
    {
     "name": "stdout",
     "output_type": "stream",
     "text": [
      "[1 1 1 1 1 1 1 1 1 1 1 1 1 1 1 1 1 1 1 1 1 1 1 1 1 1 1 1 1 1 1 1 1 1 1 1 1\n",
      " 1 1 1 1 1 1 1 1 1 1 1 1 1 1 1 1 1 1 1 1 1 1 1 1 1 1 1 1 1 1 1 1 1 1 1 1 1\n",
      " 1 1 1 1 1 1 1 1 1 1 1 1 1 1 1 1 1 1 1 1 1 1 1 1 1 1 1 1 1 1 1 1 1 1 1 1 1\n",
      " 1 1 1 1 1 1 1 1 1 1 1 1 1 1 1 1 1 1 1 1 1 1 1 1 1 1 1 1 1 1 1 1 1 1 1 1 1\n",
      " 1 1 1 1 1 1 1 1 1 1 1 1 1 1 1 1 1 1 1 1 1 1 1 1 1 1 1 1 1 1 1 1 1 1 1 1 1\n",
      " 1 1 1 1 1 1 1 1 1 1 1 1 1 1 1 1 1 1 1 1 1 1 1 1 1 1 1 1 1 1 1 1 1 1 1 1 1\n",
      " 1 1]\n"
     ]
    }
   ],
   "source": [
    "data_dir = 'remy_data_training_set_bak/'\n",
    "label_map = [2, 3, 3, 3, 3, 4, 5, 6, 7]\n",
    "for (dirpath, dirnames, filenames) in os.walk(data_dir + 'images'):\n",
    "    for filename in filenames:\n",
    "        img = misc.imread(data_dir + 'images/' + filename, mode='L')\n",
    "        label_data = np.ones(img.shape, dtype='byte')\n",
    "        for label_idx in range(9):\n",
    "            label = label_map[label_idx]\n",
    "            cur_label_img = misc.imread(data_dir + 'mask/' + filename.replace('.png', '.mask.' + str(label_idx) + '.png'), mode='L')\n",
    "            cur_label_img = np.minimum(cur_label_img, np.ones(cur_label_img.shape))\n",
    "            label_data_mx = ma.masked_array(label_data, mask=cur_label_img)\n",
    "            ma.set_fill_value(label_data_mx, label)\n",
    "            label_data = label_data_mx.filled()\n",
    "        # plt.imshow(label_data, cmap='gray')\n",
    "        # save labeled image\n",
    "        misc.imsave(data_dir + 'label_images/' + filename, label_data)\n",
    "        # save to dat file\n",
    "        label_filename = data_dir + 'labels/' + filename.replace('.png', '.dat')\n",
    "        label_file = open(label_filename, \"wb\")\n",
    "        byte_data = bytearray(label_data)\n",
    "        label_file.write(byte_data)\n",
    "        label_file.close()"
   ]
  }
 ],
 "metadata": {
  "kernelspec": {
   "display_name": "Python 2",
   "language": "python",
   "name": "python2"
  },
  "language_info": {
   "codemirror_mode": {
    "name": "ipython",
    "version": 2
   },
   "file_extension": ".py",
   "mimetype": "text/x-python",
   "name": "python",
   "nbconvert_exporter": "python",
   "pygments_lexer": "ipython2",
   "version": "2.7.6"
  }
 },
 "nbformat": 4,
 "nbformat_minor": 1
}
