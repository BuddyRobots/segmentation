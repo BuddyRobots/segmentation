{
 "cells": [
  {
   "cell_type": "code",
   "execution_count": 1,
   "metadata": {
    "collapsed": true
   },
   "outputs": [],
   "source": [
    "import tensorflow as tf\n",
    "from tensorflow.python.framework.graph_util import convert_variables_to_constants"
   ]
  },
  {
   "cell_type": "code",
   "execution_count": 2,
   "metadata": {
    "collapsed": false
   },
   "outputs": [
    {
     "name": "stdout",
     "output_type": "stream",
     "text": [
      "BBB:0\n",
      "CCC/BatchToSpaceND:0\n"
     ]
    }
   ],
   "source": [
    "# initializer = tf.constant_initializer(value=0.0, dtype=tf.float32)\n",
    "# flt = tf.Variable(initializer(shape=[3,3,3,3]))\n",
    "flt = tf.Variable(tf.random_normal([3, 3, 3, 3], stddev=0.35), name='AAA')\n",
    "inputs = tf.placeholder(shape=(1, 224, 224, 3), dtype=tf.float32, name='BBB')\n",
    "print(inputs.name)\n",
    "# conv = tf.nn.conv2d(inputs, filter=flt, strides=[1,1,1,1], padding='SAME', name='CCC')\n",
    "conv = tf.nn.atrous_conv2d(value=inputs, filters=flt, rate=2, padding='SAME', name='CCC')\n",
    "print(conv.name)\n",
    "# conv = tf.nn.conv2d_transpose(value=inputs, filter=flt, output_shape=[1, 112, 112, 3] ,strides=[1, 2, 2, 1], padding='SAME')\n",
    "# sess = tf.Session()\n",
    "# init = tf.initialize_all_variables()\n",
    "# sess.run(init)"
   ]
  },
  {
   "cell_type": "code",
   "execution_count": null,
   "metadata": {
    "collapsed": true
   },
   "outputs": [],
   "source": []
  },
  {
   "cell_type": "code",
   "execution_count": 3,
   "metadata": {
    "collapsed": false
   },
   "outputs": [],
   "source": [
    "config = tf.ConfigProto(\n",
    "        device_count = {'GPU': 0}\n",
    "    )\n",
    "sess = tf.Session(config=config)\n",
    "init = tf.initialize_all_variables()\n",
    "sess.run(init)"
   ]
  },
  {
   "cell_type": "code",
   "execution_count": null,
   "metadata": {
    "collapsed": true
   },
   "outputs": [],
   "source": []
  },
  {
   "cell_type": "code",
   "execution_count": 4,
   "metadata": {
    "collapsed": false
   },
   "outputs": [
    {
     "name": "stdout",
     "output_type": "stream",
     "text": [
      "Converted 1 variables to const ops.\n"
     ]
    }
   ],
   "source": [
    "with sess.as_default():\n",
    "#     tf.train.write_graph(sess.graph_def, \"./\", 'rand_init.pb', as_text=False)\n",
    "#     tf.train.write_graph(sess.graph_def, \"./\", 'rand_init_text.pb', as_text=True)\n",
    "    minimal_graph = convert_variables_to_constants(sess, sess.graph_def, [\"CCC\"])\n",
    "    tf.train.write_graph(minimal_graph, '.', 'rand_init_min_cpu.pb', as_text=False)\n",
    "    tf.train.write_graph(minimal_graph, '.', 'rand_init_min_text_cpu.pb', as_text=True)"
   ]
  },
  {
   "cell_type": "code",
   "execution_count": null,
   "metadata": {
    "collapsed": true
   },
   "outputs": [],
   "source": []
  }
 ],
 "metadata": {
  "kernelspec": {
   "display_name": "Python 2",
   "language": "python",
   "name": "python2"
  },
  "language_info": {
   "codemirror_mode": {
    "name": "ipython",
    "version": 2
   },
   "file_extension": ".py",
   "mimetype": "text/x-python",
   "name": "python",
   "nbconvert_exporter": "python",
   "pygments_lexer": "ipython2",
   "version": "2.7.6"
  }
 },
 "nbformat": 4,
 "nbformat_minor": 1
}
